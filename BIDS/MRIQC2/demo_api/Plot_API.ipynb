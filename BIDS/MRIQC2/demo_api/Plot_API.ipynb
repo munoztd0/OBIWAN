{
 "cells": [
  {
   "cell_type": "code",
   "execution_count": 16,
   "metadata": {},
   "outputs": [],
   "source": [
    "# Import functions #\n",
    "import argparse,datetime,os,sys,time\n",
    "\n",
    "try:\n",
    "    import plotly.graph_objects as go\n",
    "except:\n",
    "    go = None  \n",
    "\n",
    "if go is None:\n",
    "    print(\"plotly is not installed\")\n",
    "\n",
    "import pandas as pd\n",
    "import numpy as np\n",
    "import plotly.graph_objects as go\n",
    "from ipywidgets import widgets\n",
    "\n",
    "from tools import load_groupfile, query_api, filterIQM, merge_dfs, make_vio_plot, make_vio_plot_label\n",
    "\n",
    "import ipywidgets as widgets\n",
    "from ipywidgets import interact, interact_manual"
   ]
  },
  {
   "cell_type": "code",
   "execution_count": 3,
   "metadata": {},
   "outputs": [],
   "source": [
    "#define widgets\n",
    "#modality_widget=widgets.Dropdown(\n",
    "#    options=['bold', 'structural'],\n",
    "#    description='Modality:',\n",
    "#    disabled=False)\n",
    "\n",
    "\n",
    "modality_widget=widgets.RadioButtons(\n",
    "    options=['bold', 'structural'],\n",
    "    description='Modality:',\n",
    "    disabled=False\n",
    ")\n",
    "\n",
    "TR_min=widgets.FloatSlider(\n",
    "    min=1.5,\n",
    "    max=5,\n",
    "    step=0.1,\n",
    "    description='TR min:',\n",
    "    disabled=False,\n",
    "    continuous_update=False,\n",
    "    orientation='horizontal',\n",
    "    readout=True,\n",
    "    readout_format='',\n",
    "    slider_color='white',\n",
    "    color='black'\n",
    ")\n",
    "\n",
    "\n",
    "TR_max=widgets.FloatSlider(\n",
    "    min=1.5,\n",
    "    max=4,\n",
    "    step=0.1,\n",
    "    description='TR max:',\n",
    "    disabled=False,\n",
    "    continuous_update=False,\n",
    "    orientation='horizontal',\n",
    "    readout=True,\n",
    "    readout_format='',\n",
    "    slider_color='white',\n",
    "    color='black'\n",
    ")\n",
    "\n",
    "\n",
    "\n",
    "TE_min=widgets.FloatSlider(\n",
    "    min=0,\n",
    "    max=.05,\n",
    "    step=0.001,\n",
    "    description='TE min:',\n",
    "    disabled=False,\n",
    "    continuous_update=False,\n",
    "    orientation='horizontal',\n",
    "    readout=True,\n",
    "    readout_format='',\n",
    "    slider_color='white',\n",
    "    color='black'\n",
    ")\n",
    "\n",
    "\n",
    "TE_max=widgets.FloatSlider(\n",
    "    min=0,\n",
    "    max=.05,\n",
    "    step=0.001,\n",
    "    description='TE max:',\n",
    "    disabled=False,\n",
    "    continuous_update=False,\n",
    "    orientation='horizontal',\n",
    "    readout=True,\n",
    "    readout_format='',\n",
    "    slider_color='white',\n",
    "    color='black'\n",
    ")\n",
    "\n",
    "\n",
    "select_parameters=widgets.SelectMultiple(\n",
    "    options=['TR_min', 'TR_max', 'TE_min', 'TE_max'],\n",
    "    description='Parameters',\n",
    "    disabled=False)"
   ]
  },
  {
   "cell_type": "code",
   "execution_count": 4,
   "metadata": {},
   "outputs": [
    {
     "data": {
      "application/vnd.jupyter.widget-view+json": {
       "model_id": "d261a663c8c54605aaa9122fd796cb00",
       "version_major": 2,
       "version_minor": 0
      },
      "text/plain": [
       "RadioButtons(description='Modality:', options=('bold', 'structural'), value='bold')"
      ]
     },
     "metadata": {},
     "output_type": "display_data"
    }
   ],
   "source": [
    "display(modality_widget)"
   ]
  },
  {
   "cell_type": "code",
   "execution_count": 6,
   "metadata": {},
   "outputs": [
    {
     "data": {
      "application/vnd.jupyter.widget-view+json": {
       "model_id": "8da3b6c407764b26a4209a174b11bda6",
       "version_major": 2,
       "version_minor": 0
      },
      "text/plain": [
       "SelectMultiple(description='Parameters', index=(0, 1), options=('TR_min', 'TR_max', 'TE_min', 'TE_max'), value…"
      ]
     },
     "metadata": {},
     "output_type": "display_data"
    },
    {
     "data": {
      "text/plain": [
       "'If empty, no parameter restrictions will applied'"
      ]
     },
     "execution_count": 6,
     "metadata": {},
     "output_type": "execute_result"
    }
   ],
   "source": [
    "modal=modality_widget.value\n",
    "display(select_parameters)\n",
    "\"If empty, no parameter restrictions will applied\"\n",
    "#2.4 0041"
   ]
  },
  {
   "cell_type": "code",
   "execution_count": 7,
   "metadata": {},
   "outputs": [
    {
     "data": {
      "application/vnd.jupyter.widget-view+json": {
       "model_id": "78025590d5fb486fbb41f4ce9c4aa992",
       "version_major": 2,
       "version_minor": 0
      },
      "text/plain": [
       "FloatSlider(value=1.5, continuous_update=False, description='TR min:', max=5.0, min=1.5, readout_format='')"
      ]
     },
     "metadata": {},
     "output_type": "display_data"
    },
    {
     "data": {
      "application/vnd.jupyter.widget-view+json": {
       "model_id": "4538366db8d64d54b66b1d05dfee7754",
       "version_major": 2,
       "version_minor": 0
      },
      "text/plain": [
       "FloatSlider(value=1.5, continuous_update=False, description='TR max:', max=4.0, min=1.5, readout_format='')"
      ]
     },
     "metadata": {},
     "output_type": "display_data"
    }
   ],
   "source": [
    "for i in select_parameters.value:\n",
    "        display(eval(i))"
   ]
  },
  {
   "cell_type": "code",
   "execution_count": 8,
   "metadata": {},
   "outputs": [
    {
     "name": "stdout",
     "output_type": "stream",
     "text": [
      "['TR >= 2.3', 'TR < 2.5']\n"
     ]
    }
   ],
   "source": [
    "to_filter=select_parameters.value\n",
    "filter_list=[]\n",
    "filter_dict={'TR_min': \"TR >= {}\".format(TR_min.value),\n",
    "             'TR_max': \"TR < {}\".format(TR_max.value),\n",
    "             'TE_min': \"TE >= {}\".format(TE_min.value),\n",
    "             'TE_max': \"TE < {}\".format(TE_max.value)\n",
    "            }\n",
    "\n",
    "for item in to_filter:\n",
    "    add_item=filter_dict.get(item)\n",
    "    filter_list.append(add_item)\n",
    "    \n",
    "print(filter_list)\n",
    "#filter_list= ['TR > 2.2', 'TR < 3']"
   ]
  },
  {
   "cell_type": "code",
   "execution_count": 34,
   "metadata": {},
   "outputs": [],
   "source": [
    "# Arguments #\n",
    "\n",
    "# laziness helper\n",
    "# here = os.path.dirname(os.path.abspath(os.path.realpath(__file__)))\n",
    "here = %pwd\n",
    "homedir = os.path.expanduser('~/OBIWAN/')\n",
    "# path to input of local data from MRIQC on your own dataset \n",
    "group_file1 = os.path.join(homedir,'DERIVATIVES', 'MRIQC', 'obese_bold.tsv')\n",
    "group_file2 = os.path.join(homedir,'DERIVATIVES', 'MRIQC', 'control_bold.tsv')\n",
    "#group_file = os.path.join(homedir,'DERIVATIVES', 'MRIQC', 'group_T1w.tsv')\n",
    "\n",
    "# scan type to query the API for [bold, T1w, T2w]\n",
    "modality = 'bold'\n",
    "#modality = 'T1w'\n",
    "\n",
    "# any scan parameters that you want to filter the API search results by\n",
    "\"\"\"Current possible filters:\n",
    "   Tesla, TE, TR\n",
    "   NOTE: Only working as *and* right now!\n",
    "\"\"\"\n",
    "\n",
    "\n",
    "# IQM variables to visualize\n",
    "#need to add separate IQMs for structural and functional\n",
    "IQM_to_plot = ['tsnr']#,'cnr', 'efc']#, 'snr_gm', 'snr_csf', 'rpve_gm', 'fwhm_avg'] # 'aor','aqi','dvars_nstd', 'tsnr', 'snr'\n",
    "                    #'dvars_std','dvars_vstd',\n",
    "                    #'efc','fber','fd_mean','fd_num','fd_perc','fwhm_avg','fwhm_x','fwhm_y',\n",
    "                    #'fwhm_z','gcor','gsr_x','gsr_y','snr','summary_bg_k','summary_bg_mad',\n",
    "                    #'summary_bg_mean','summary_bg_median','summary_bg_n','summary_bg_p05',\n",
    "                    #'summary_bg_p95','summary_bg_stdv','summary_fg_k','summary_fg_mad',\n",
    "                    #'summary_fg_mean','summary_fg_median','summary_fg_n','summary_fg_p05',\n",
    "                    #'summary_fg_p95','summary_fg_stdv','dummy_trs']\n",
    "                    \n",
    "                      # variable names we might want to list\n",
    "    #qc_var_list = [\"aor\",\"aqi\",\"cjv\",\"cnr\",\"dummy_trs\",\"dvars_nstd\",\"dvars_std\",\"dvars_vstd\",\"efc\",\"fber\",\"fber\",\"fd_mean\",\"fd_num\",\"fd_perc\",\"fwhm_avg\",\"fwhm_avg\",\"fwhm_x\",\"fwhm_y\",\"fwhm_z\",\"gcor\",\"gsr_x\",\"gsr_y\",\"icvs_csf\",\"icvs_gm\",\n",
    "#\"icvs_wm\",\"inu_med\",\"inu_range\",\"qi_1\",\"qi_2\",\"rpve_csf\",\"rpve_gm\",\"rpve_wm\",\"snr\", \"snr_csf\",\"snr_gm\",\"snr_total\",\"snr_wm\",\"snrd_csf\",\"snrd_gm\",\"snrd_total\",\"snrd_wm\",\"summary_bg_k\",\"summary_bg_mad\",\"summary_bg_mean\",\"summary_bg_median\",\"summary_bg_n\",\n",
    "#\"summary_bg_p05\",\"summary_bg_p95\",\"summary_bg_stdv\",\"summary_csf_k\",\"summary_csf_mad\",\"summary_csf_mean\",\"summary_csf_median\",\"summary_csf_n\",\"summary_csf_p05\",\"summary_csf_p95\",\"summary_csf_stdv\",\"summary_fg_k\",\"summary_fg_mad\",\"summary_fg_mean\",\n",
    "#\"summary_fg_median\",\"summary_fg_n\",\"summary_fg_p05\",\"summary_fg_p95\",\"summary_fg_stdv\",\"summary_gm_k\",\"summary_gm_mad\",\"summary_gm_mean\",\"summary_gm_median\",\"summary_gm_n\",\"summary_gm_p05\",\"summary_gm_p95\",\"summary_gm_stdv\",\"summary_wm_k\",\"summary_wm_mad\",\n",
    "#\"summary_wm_mean\",\"summary_wm_median\",\"summary_wm_n\",\"summary_wm_p05\",\"summary_wm_p95\",\"summary_wm_stdv\",\"tpm_overlap_csf\",\"tpm_overlap_gm\",\"tpm_overlap_wm\",\"tsnr\",\"wm2max\"]"
   ]
  },
  {
   "cell_type": "code",
   "execution_count": 35,
   "metadata": {},
   "outputs": [
    {
     "data": {
      "text/plain": [
       "(127, 45)"
      ]
     },
     "execution_count": 35,
     "metadata": {},
     "output_type": "execute_result"
    }
   ],
   "source": [
    "# Load in your own data # \n",
    "\n",
    "# This should be a .csv or .tsv file outputted from MRIQC on your own data\n",
    "# This will return a pandas dataframe of the MRIQC data from your experiment\n",
    "\n",
    "userdf1 = load_groupfile(group_file1)\n",
    "userdf2 = load_groupfile(group_file2)\n",
    "# userdf.head()\n",
    "userdf1.shape\n",
    "userdf2.shape\n"
   ]
  },
  {
   "cell_type": "code",
   "execution_count": 36,
   "metadata": {},
   "outputs": [
    {
     "name": "stdout",
     "output_type": "stream",
     "text": [
      "(1000, 77)\n",
      "(0, 77)\n"
     ]
    }
   ],
   "source": [
    "# Load and filter data from the API # \n",
    "\n",
    "# Figure out which to get from modality arg #\n",
    "T1apicsv = os.path.join(here, 'demo_api', 'T1w_demo.csv')\n",
    "T2apicsv = os.path.join(here, 'demo_api', 'T2w_demo.csv')\n",
    "boldapicsv = os.path.join(here, 'demo_api', 'bold_demo.csv')\n",
    "\n",
    "if modality == 'T1w':\n",
    "    api_file = T1apicsv\n",
    "elif modality == 'T2w':\n",
    "    api_file = T1apicsv\n",
    "elif modality == 'bold':\n",
    "    api_file = boldapicsv\n",
    "\n",
    "# This will return a pandas dataframe with data from all scans of the given scan type\n",
    "# with the given parameters \n",
    "\n",
    "apidf = pd.read_csv(api_file)\n",
    "if not filter_list == []:\n",
    "    filtered_apidf = filterIQM(apidf,filter_list)\n",
    "else:\n",
    "    filtered_apidf = apidf\n",
    "\n",
    "# apidf.head()\n",
    "print(apidf.shape)\n",
    "# filtered_apidf.head()\n",
    "print(filtered_apidf.shape)\n",
    "#print(list(filtered_apidf))"
   ]
  },
  {
   "cell_type": "code",
   "execution_count": 37,
   "metadata": {},
   "outputs": [],
   "source": [
    "def merge_dfs2(userdf1, userdf12, filtered_apidf):\n",
    "    \"\"\" Merges the user/group dataframe and the filtered API dataframe\n",
    "        while adding a groupby variable. Name is \"SOURCE\". User entries\n",
    "        are \"USER\" and API entries are \"API\".\n",
    "    \n",
    "    Args:\n",
    "        udf (pandas df): User MRIQC tsv converted to pandas dataframe\n",
    "        apidf (pandas df): API info, filtered and stored in padas\n",
    "            dataframe.\n",
    "\n",
    "    Returns: A merged pandas dataframe containing the user group info and \n",
    "        the filtered API info. A \"groupby\" header called \"SOURCE\" is added\n",
    "        with a \"USER\" or \"API\" entry for easy sorting/splitting.\n",
    "    \"\"\"\n",
    "    userdf1['SOURCE']='USER1'\n",
    "    userdf2['SOURCE']='USER2'\n",
    "    filtered_apidf['SOURCE']='API'\n",
    "    filtered_apidf.rename(columns={'_id': 'bids_name'}, inplace=True)\n",
    "\n",
    "    merged_df = pd.concat([userdf1,userdf2, filtered_apidf], sort=True).fillna(0)\n",
    "    # merged_df['_INDEX']=merged_df.index\n",
    "\n",
    "    # merged_df_with_index = pd.DataFrame(index = merged_df.index, data= merged_df)\n",
    "    return merged_df"
   ]
  },
  {
   "cell_type": "code",
   "execution_count": 47,
   "metadata": {},
   "outputs": [],
   "source": [
    "def make_vio_plot_df2(data1, data2, data3, IQM_to_plot, data_descriptors, label1, label2, outliers=False):\n",
    "    ''' Make a violin plot of the api and user QC metrics.\n",
    "\n",
    "    Args:\n",
    "        data (dataframe): a dataframe including the API and USER data. Must have a column labeled 'source' with USER or API defined.\n",
    "        IQM_to_plot (list): list of IQMs to plot. If you want to view all the IQMs, leave the list empty.\n",
    "        data_descriptors (path-to-csv): the path to read in a csv of variable descriptions\n",
    "        outliers (Boolean): if True, remove outliers. Default is to leave outliers in\n",
    "\n",
    "    Returns: A violin plot of each MRIQC metric, comparing the user-level data to\n",
    "    the API data.\n",
    "\n",
    "    '''\n",
    "    print('Loading in dataframe...')\n",
    "\n",
    "    # variable names we might want to list\n",
    "    qc_var_list = [\"efc\"]\n",
    "\n",
    "    # add stuff about whether or not variables were defined\n",
    "\n",
    "    if len(IQM_to_plot) == 0:\n",
    "        variables = qc_var_list\n",
    "        print('Loading all variables...')\n",
    "    elif len(IQM_to_plot) > 0:\n",
    "        for x in IQM_to_plot:\n",
    "            if str(x) not in qc_var_list:\n",
    "                print('Variable name not recognized.')\n",
    "                sys.exit()\n",
    "            else:\n",
    "                pass\n",
    "        variables = IQM_to_plot\n",
    "        print('Loading variables: %s' %variables)\n",
    "\n",
    "    # data descriptor stuff\n",
    "    print('Loading in data descriptors...')\n",
    "\n",
    "    descriptors = pd.read_csv('./tools/iqm_descriptions.csv')\n",
    "    \n",
    "    def merge_dfs_plot(userdf1, userdf2, filtered_apidf):\n",
    "        userdf1['SOURCE']='USER1'\n",
    "        userdf2['SOURCE']='USER2'\n",
    "        filtered_apidf['SOURCE']='API'\n",
    "        filtered_apidf.rename(columns={'_id': 'bids_name'}, inplace=True)\n",
    "\n",
    "        merged_df = pd.concat([userdf1,userdf2, filtered_apidf], sort=True).fillna(0)\n",
    "        # merged_df['_INDEX']=merged_df.index\n",
    "\n",
    "        # merged_df_with_index = pd.DataFrame(index = merged_df.index, data= merged_df)\n",
    "        return merged_df\n",
    "    \n",
    "    data = merge_dfs_plot(data1, data2, data3)\n",
    "    \n",
    "    def merge_dfs(userdf1, userdf2):\n",
    "        userdf1['SOURCE']='USER'\n",
    "        userdf2['SOURCE']='USER'\n",
    "\n",
    "        merged_df = pd.concat([userdf1,userdf2], sort=True).fillna(0)\n",
    "        # merged_df['_INDEX']=merged_df.index\n",
    "\n",
    "        # merged_df_with_index = pd.DataFrame(index = merged_df.index, data= merged_df)\n",
    "        return merged_df\n",
    "    \n",
    "    my_data = merge_dfs(data1, data2)\n",
    "    \n",
    "    #if not outliers:\n",
    "    #    print('Please specify whether you want api outliers in your visualization or not')\n",
    "\n",
    "    # source: user/api\n",
    "    # change the file from short format to long format\n",
    "    df_long = pd.melt(data, id_vars=['bids_name','SOURCE'],var_name='var',value_name='values')\n",
    "    df_long2 = pd.melt(my_data, id_vars=['bids_name','SOURCE'],var_name='var',value_name='values')\n",
    "\n",
    "\n",
    "    # make plotting dictionary for family colors\n",
    "    # mediumpurple - lightskyblue - red is #A52A2A - orange is #D2691E - yellow is #DAA520 - lightseafoamgreen -\n",
    "    plot_dict = {'tsnr': ('#D2691E'), 'gcor': ('#D2691E'), 'dvars_vstd': ('#D2691E'), 'dvars_std': ('#D2691E'), # temporal\n",
    "                 'dvars_nstd': ('#D2691E'),\n",
    "                 'fwhm_x': ('#DAA520'), 'fwhm_y': ('#DAA520'), 'fwhm_z': ('#DAA520'), 'fwhm_avg': ('#DAA520'), #spatial\n",
    "                 'fber': ('#DAA520'), 'efc': ('#DAA520'),\n",
    "                 'cjv': ('#A52A2A'), 'cnr': ('#A52A2A'), 'qi_2': ('#A52A2A'), 'snr': ('#A52A2A'), # noise\n",
    "                 'snr_csf': ('#A52A2A'), 'snr_gm': ('#A52A2A'), 'snr_wm': ('#A52A2A'), 'snr_total': ('#A52A2A'),\n",
    "                 'snrd_csf': ('#A52A2A'), 'snrd_gm': ('#A52A2A'), 'snrd_wm': ('#A52A2A'),\n",
    "                 'fd_mean': ('#66CDAA'), 'fd_num': ('#66CDAA'), 'fd_perc': ('#66CDAA'), # motion IQMs\n",
    "                 'inu_med': ('#6495ED'), 'inu_range': ('#6495ED'), 'wm2max': ('#6495ED'), # artifact IQMs\n",
    "                 'aor': ('#9932CC'), 'aqi': ('#9932CC'), 'dummy_trs': ('#9932CC'), 'gsr_x': ('#9932CC'), # other\n",
    "                 'gsr_y': ('#9932CC'), 'qi_1': ('#9932CC'), 'rpve_csf': ('#9932CC'), 'rpve_gm': ('#9932CC'),\n",
    "                 'rpve_wm': ('#9932CC'), 'tpm_overlap_csf': ('#9932CC'), 'tpm_overlap_gm': ('#9932CC'),\n",
    "                 'tpm_overlap_wm': ('#9932CC'),\n",
    "                 'icvs_csf': ('#00008B'), 'icvs_gm': ('#00008B'), 'icvs_wm': ('#00008B'), # descriptive\n",
    "                 'summary_bg_k': ('#00008B'), 'summary_bg_mad': ('#00008B'), 'summary_bg_mean': ('#00008B'),\n",
    "                 'summary_bg_median': ('#00008B'), 'summary_bg_n': ('#00008B'), 'summary_bg_p05': ('#00008B'),\n",
    "                 'summary_bg_p95': ('#00008B'), 'summary_bg_stdv': ('#00008B'),\n",
    "                 'summary_csf_k': ('#00008B'), 'summary_csf_mad': ('#00008B'), 'summary_csf_mean': ('#00008B'),\n",
    "                 'summary_csf_median': ('#00008B'), 'summary_csf_n': ('#00008B'), 'summary_csf_p05': ('#00008B'),\n",
    "                 'summary_csf_p95': ('#00008B'), 'summary_csf_stdv': ('#00008B'),\n",
    "                 'summary_fg_k': ('#00008B'), 'summary_fg_mad': ('#00008B'), 'summary_fg_mean': ('#00008B'),\n",
    "                 'summary_fg_median': ('#00008B'), 'summary_fg_n': ('#00008B'), 'summary_fg_p05': ('#00008B'),\n",
    "                 'summary_fg_p95': ('#00008B'), 'summary_fg_stdv': ('#00008B'),\n",
    "                 'summary_gm_k': ('#00008B'), 'summary_gm_mad': ('#00008B'), 'summary_gm_mean': ('#00008B'),\n",
    "                 'summary_gm_median': ('#00008B'), 'summary_gm_n': ('#00008B'), 'summary_gm_p05': ('#00008B'),\n",
    "                 'summary_gm_p95': ('#00008B'), 'summary_gm_stdv': ('#00008B'),\n",
    "                 'summary_wm_k': ('#00008B'), 'summary_wm_mad': ('#00008B'), 'summary_wm_mean': ('#00008B'),\n",
    "                 'summary_wm_median': ('#00008B'), 'summary_wm_n': ('#00008B'), 'summary_wm_p05': ('#00008B'),\n",
    "                 'summary_wm_p95': ('#00008B'), 'summary_wm_stdv': ('#00008B')\n",
    "                 }\n",
    "\n",
    "    var_name = variables[0] # the default first variable\n",
    "    API_data = df_long.loc[(df_long['var']==var_name)&(df_long['SOURCE']=='API'),'values']\n",
    "\n",
    "\n",
    "    def remove_outliers_from_api(API_data,outliers):\n",
    "\n",
    "        # identify some outliers\n",
    "        if outliers:\n",
    "            q75, q25 = np.percentile(API_data, [75 ,25])\n",
    "            iqr = q75 - q25\n",
    "            min_out = q25-1.5*iqr\n",
    "            max_out = q75+1.5*iqr\n",
    "\n",
    "            #if outliers are present, replace them with NaN\n",
    "            API_data[API_data > max_out] = np.nan\n",
    "            API_data[API_data < min_out] = np.nan\n",
    "\n",
    "        return API_data\n",
    "\n",
    "    API_data = remove_outliers_from_api(API_data,outliers)\n",
    "\n",
    "    def make_range(data, variable):\n",
    "        mini_data = data.loc[(data['var']==variable)]\n",
    "        max_point = mini_data.max().values[3]\n",
    "        min_point = mini_data.min().values[3]\n",
    "        spread = max_point-min_point\n",
    "        point_range = [(min_point-(.2*spread)), (max_point+(.2*spread))]\n",
    "        return point_range\n",
    "                    \n",
    "    # create a split violin plot for a single variable\n",
    "    fig = go.Figure()\n",
    "\n",
    "    fig.add_trace(go.Violin(x=df_long.loc[(df_long['var']==var_name)&(df_long['SOURCE']=='USER1'),'var'],\n",
    "                    y=df_long.loc[(df_long['var']==var_name)&(df_long['SOURCE']=='USER1'),'values'],\n",
    "                    legendgroup=label1, scalegroup=label1, name=label1,\n",
    "                    side='negative',\n",
    "                    points='all',\n",
    "                    pointpos=-0.5, # where to position points\n",
    "                    jitter=0.1,\n",
    "                    hovertext=df_long['bids_name'],\n",
    "                    line_color=plot_dict.get(var_name, 'red')) # plot same-family IQMs in same color)\n",
    "         )\n",
    "    \n",
    "    fig.add_trace(go.Violin(x=df_long.loc[(df_long['var']==var_name)&(df_long['SOURCE']=='USER2'),'var'],\n",
    "                    y=df_long.loc[(df_long['var']==var_name)&(df_long['SOURCE']=='USER2'),'values'],\n",
    "                    legendgroup=label2, scalegroup=label2, name=label2,\n",
    "                    side='negative',\n",
    "                    points='all',\n",
    "                    pointpos=-0.7, # where to position points\n",
    "                    jitter=0.1,\n",
    "                    hovertext=df_long['bids_name'],\n",
    "                    line_color=plot_dict.get(var_name, 'blue')) # plot same-family IQMs in same color)\n",
    "         )\n",
    "        \n",
    "    fig.add_trace(go.Violin(x=df_long.loc[(df_long['var']==var_name)&(df_long['SOURCE']=='API'),'var'],\n",
    "                    y=df_long.loc[(df_long['var']==var_name)&(df_long['SOURCE']=='API'),'values'],\n",
    "                    legendgroup=label2, scalegroup=label2, name=label2,\n",
    "                    side='positive',\n",
    "                    points='all',\n",
    "                    pointpos=0.5, # where to position points\n",
    "                    jitter=0.1,\n",
    "                    hovertext=df_long['bids_name'],\n",
    "                    line_color='rgb(58,54,54)')\n",
    "         )\n",
    "    \n",
    "    # update characteristics shared by all traces\n",
    "    definition = descriptors.loc[(descriptors['iqm_name']==var_name),\"iqm_definition\"].tolist()[0]\n",
    "    fig.update_traces(meanline_visible=True,\n",
    "              box_visible=True)\n",
    "    fig.update_layout(autosize=False,\n",
    "                     width=700,\n",
    "                     height=700,\n",
    "                     margin=go.layout.Margin(t=0),\n",
    "                     xaxis=go.layout.XAxis(title = go.layout.xaxis.Title(text=definition,font=dict(size=12))))\n",
    "    fig.update_yaxes(range=make_range(df_long, var_name))\n",
    "    fig.update_layout(template=\"plotly_white\") # make background white\n",
    "\n",
    "    # create a figure widget in order to show the dropdown menu\n",
    "    fig_widget = go.FigureWidget(fig)\n",
    "\n",
    "    # create a dropdown menu widget for the variable name\n",
    "    dropdown_widget = widgets.Dropdown(\n",
    "            options=variables,\n",
    "            value=var_name,\n",
    "            description='IQM:',\n",
    "            )\n",
    "    # define the changes that occur based on the choice in the dropdown menu\n",
    "    def response(change):\n",
    "        var_name = dropdown_widget.value\n",
    "\n",
    "        API_data = df_long.loc[(df_long['var']==var_name)&(df_long['SOURCE']=='API'),'values']\n",
    "        API_data = remove_outliers_from_api(API_data,outliers)\n",
    "        user_data = df_long2.loc[(df_long['var']==var_name)&(df_long['SOURCE']=='USER'),'values']\n",
    "\n",
    "        with fig_widget.batch_update():\n",
    "            fig_widget.data[0].x = df_long2.loc[(df_long['var']==var_name)&(df_long['SOURCE']=='USER'),'var']\n",
    "            fig_widget.data[0].y = user_data\n",
    "            fig_widget.data[0].line = {'color': plot_dict.get(var_name, 'red')}\n",
    "            fig_widget.data[1].x = df_long.loc[(df_long['var']==var_name)&(df_long['SOURCE']=='API'),'var']\n",
    "            fig_widget.data[1].y = API_data\n",
    "            definition = descriptors.loc[(descriptors['iqm_name']==var_name),\"iqm_definition\"].tolist()[0]\n",
    "            fig_widget.layout.xaxis.title = {'text': definition, 'font': {'size':12}}\n",
    "            fig_widget.layout.yaxis.range = make_range(df_long, var_name)\n",
    "    \n",
    "    def df():\n",
    "        var_name = dropdown_widget.value\n",
    "\n",
    "        API_data = df_long.loc[(df_long['var']==var_name)&(df_long['SOURCE']=='API'),'values']\n",
    "        API_data = remove_outliers_from_api(API_data,outliers)\n",
    "        user_data = df_long2.loc[(df_long['var']==var_name)&(df_long['SOURCE']=='USER'),'values']\n",
    "        return user_data\n",
    "    \n",
    "    data = df()\n",
    "    dropdown_widget.observe(response, names=\"value\")\n",
    "\n",
    "    return(dropdown_widget, fig_widget, data)\n",
    "\n"
   ]
  },
  {
   "cell_type": "code",
   "execution_count": 48,
   "metadata": {},
   "outputs": [
    {
     "name": "stdout",
     "output_type": "stream",
     "text": [
      "Loading in dataframe...\n",
      "Variable name not recognized.\n"
     ]
    },
    {
     "ename": "SystemExit",
     "evalue": "",
     "output_type": "error",
     "traceback": [
      "An exception has occurred, use %tb to see the full traceback.\n",
      "\u001b[0;31mSystemExit\u001b[0m\n"
     ]
    },
    {
     "name": "stderr",
     "output_type": "stream",
     "text": [
      "/Users/davidmunoz/anaconda3/lib/python3.7/site-packages/IPython/core/interactiveshell.py:3333: UserWarning:\n",
      "\n",
      "To exit: use 'exit', 'quit', or Ctrl-D.\n",
      "\n"
     ]
    }
   ],
   "source": [
    "# Merge dataframes # \n",
    "\n",
    "# Takes the user data and API data and merges it into one dataframe \n",
    "# This will return a single pandas dataframe with the local data and API data merged, with a \"group\" measure to allow for a \"groupby\" \n",
    "# this needs to be updated with actual function name and information about how to use  \n",
    "\n",
    "\n",
    "#vis_ready_df = merge_dfs2(userdf1.copy(), userdf2.copy(), filtered_apidf.copy())\n",
    "#print(vis_ready_df.head())\n",
    "#print(vis_ready_df.tail())\n",
    "#vis_ready_df.shape\n",
    "\n",
    "v = make_vio_plot_df2(userdf1.copy(), userdf2.copy(), filtered_apidf.copy(),IQM_to_plot,\"\",\"Obese\", \"Control\", outliers=False)\n",
    "\n"
   ]
  },
  {
   "cell_type": "markdown",
   "metadata": {},
   "source": [
    "### Color coding\n",
    "Families of IQMs are color-coded. In each plot, the API data is shown in dark gray, and the user's data is shown in the appropriate color. \n",
    "- spatial IQMs: gold\n",
    "- temporal IQMs: orange\n",
    "- noise IQMs: red\n",
    "- motion IQMs: green\n",
    "- artifact IQMs: light blue\n",
    "- descriptive IQMs: dark blue\n",
    "- other IQMs: purple"
   ]
  }
 ],
 "metadata": {
  "kernelspec": {
   "display_name": "Python 3",
   "language": "python",
   "name": "python3"
  },
  "language_info": {
   "codemirror_mode": {
    "name": "ipython",
    "version": 3
   },
   "file_extension": ".py",
   "mimetype": "text/x-python",
   "name": "python",
   "nbconvert_exporter": "python",
   "pygments_lexer": "ipython3",
   "version": "3.7.3"
  }
 },
 "nbformat": 4,
 "nbformat_minor": 2
}
